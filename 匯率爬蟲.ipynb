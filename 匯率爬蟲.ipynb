{
 "cells": [
  {
   "cell_type": "code",
   "execution_count": 1,
   "metadata": {
    "collapsed": false
   },
   "outputs": [],
   "source": [
    "import pandas as pd"
   ]
  },
  {
   "cell_type": "code",
   "execution_count": 2,
   "metadata": {
    "collapsed": true
   },
   "outputs": [],
   "source": [
    "import time"
   ]
  },
  {
   "cell_type": "code",
   "execution_count": 3,
   "metadata": {
    "collapsed": false
   },
   "outputs": [],
   "source": [
    "from ipywidgets import interact_manual"
   ]
  },
  {
   "cell_type": "code",
   "execution_count": 4,
   "metadata": {
    "collapsed": false
   },
   "outputs": [],
   "source": [
    "##讀取銀行網頁\n",
    "FER_bot = pd.read_html('http://rate.bot.com.tw/xrt?Lang=zh-TW')\n",
    "FER_CITI = pd.read_html('https://www.citibank.com.tw/TWGCB/apba/fxrts/InitializeSubApp.do?TTC=29&selectedBCC=TWD')"
   ]
  },
  {
   "cell_type": "code",
   "execution_count": 5,
   "metadata": {
    "collapsed": false
   },
   "outputs": [],
   "source": [
    "##資料取得時間\n",
    "times = time.strftime(\"%F_%H%M\")"
   ]
  },
  {
   "cell_type": "code",
   "execution_count": 6,
   "metadata": {
    "collapsed": false
   },
   "outputs": [],
   "source": [
    "##指定讀取表格\n",
    "FER_bot = FER_bot[0]\n",
    "FER_CITI = pd.DataFrame(FER_CITI[0])"
   ]
  },
  {
   "cell_type": "code",
   "execution_count": 7,
   "metadata": {
    "collapsed": false
   },
   "outputs": [],
   "source": [
    "##指定Dataframe欄位\n",
    "FER_bot = FER_bot.ix[:,0:5]\n",
    "FER_CITI = FER_CITI.ix[32:45,1:5]"
   ]
  },
  {
   "cell_type": "code",
   "execution_count": 8,
   "metadata": {
    "collapsed": false
   },
   "outputs": [],
   "source": [
    "##花旗欄位順序調整\n",
    "FER_CITI = FER_CITI[[1,5,4,3,2]]"
   ]
  },
  {
   "cell_type": "code",
   "execution_count": 9,
   "metadata": {
    "collapsed": false
   },
   "outputs": [],
   "source": [
    "##欄位名稱定義\n",
    "colums_list = [u'幣別', u'現金匯率-本行買入', u'現金匯率-本行賣出', u'即期匯率-本行買入', u'即期匯率-本行賣出']\n",
    "FER_bot.columns = list(colums_list)\n",
    "FER_CITI.columns = list(colums_list)"
   ]
  },
  {
   "cell_type": "code",
   "execution_count": 10,
   "metadata": {
    "collapsed": false,
    "scrolled": true
   },
   "outputs": [
    {
     "name": "stderr",
     "output_type": "stream",
     "text": [
      "D:\\Python\\WinPython-64bit-3.6.0.1Qt5\\python-3.6.0.amd64\\lib\\site-packages\\ipykernel\\__main__.py:2: FutureWarning: currently extract(expand=None) means expand=False (return Index/Series/DataFrame) but in a future version of pandas this will be changed to expand=True (return DataFrame)\n",
      "  from ipykernel import kernelapp as app\n"
     ]
    }
   ],
   "source": [
    "##去除台銀幣別重複字串\n",
    "FER_bot[u'幣別'] = FER_bot[u'幣別'].str.extract('\\((\\w+)\\)')"
   ]
  },
  {
   "cell_type": "code",
   "execution_count": 11,
   "metadata": {
    "collapsed": false
   },
   "outputs": [
    {
     "data": {
      "text/html": [
       "<div>\n",
       "<table border=\"1\" class=\"dataframe\">\n",
       "  <thead>\n",
       "    <tr style=\"text-align: right;\">\n",
       "      <th></th>\n",
       "      <th>幣別</th>\n",
       "      <th>現金匯率-本行買入</th>\n",
       "      <th>現金匯率-本行賣出</th>\n",
       "      <th>即期匯率-本行買入</th>\n",
       "      <th>即期匯率-本行賣出</th>\n",
       "    </tr>\n",
       "  </thead>\n",
       "  <tbody>\n",
       "    <tr>\n",
       "      <th>0</th>\n",
       "      <td>USD</td>\n",
       "      <td>29.955</td>\n",
       "      <td>30.497</td>\n",
       "      <td>30.255</td>\n",
       "      <td>30.355</td>\n",
       "    </tr>\n",
       "    <tr>\n",
       "      <th>1</th>\n",
       "      <td>HKD</td>\n",
       "      <td>3.731</td>\n",
       "      <td>3.926</td>\n",
       "      <td>3.851</td>\n",
       "      <td>3.911</td>\n",
       "    </tr>\n",
       "    <tr>\n",
       "      <th>2</th>\n",
       "      <td>GBP</td>\n",
       "      <td>38.02</td>\n",
       "      <td>39.95</td>\n",
       "      <td>38.89</td>\n",
       "      <td>39.31</td>\n",
       "    </tr>\n",
       "    <tr>\n",
       "      <th>3</th>\n",
       "      <td>AUD</td>\n",
       "      <td>22.99</td>\n",
       "      <td>23.65</td>\n",
       "      <td>23.18</td>\n",
       "      <td>23.41</td>\n",
       "    </tr>\n",
       "    <tr>\n",
       "      <th>4</th>\n",
       "      <td>CAD</td>\n",
       "      <td>23.42</td>\n",
       "      <td>24.16</td>\n",
       "      <td>23.69</td>\n",
       "      <td>23.91</td>\n",
       "    </tr>\n",
       "    <tr>\n",
       "      <th>5</th>\n",
       "      <td>SGD</td>\n",
       "      <td>21.51</td>\n",
       "      <td>22.29</td>\n",
       "      <td>21.93</td>\n",
       "      <td>22.11</td>\n",
       "    </tr>\n",
       "    <tr>\n",
       "      <th>6</th>\n",
       "      <td>CHF</td>\n",
       "      <td>30.77</td>\n",
       "      <td>31.83</td>\n",
       "      <td>31.3</td>\n",
       "      <td>31.59</td>\n",
       "    </tr>\n",
       "    <tr>\n",
       "      <th>7</th>\n",
       "      <td>JPY</td>\n",
       "      <td>0.2598</td>\n",
       "      <td>0.2708</td>\n",
       "      <td>0.2662</td>\n",
       "      <td>0.2702</td>\n",
       "    </tr>\n",
       "    <tr>\n",
       "      <th>8</th>\n",
       "      <td>ZAR</td>\n",
       "      <td>-</td>\n",
       "      <td>-</td>\n",
       "      <td>2.24</td>\n",
       "      <td>2.32</td>\n",
       "    </tr>\n",
       "    <tr>\n",
       "      <th>9</th>\n",
       "      <td>SEK</td>\n",
       "      <td>3.22</td>\n",
       "      <td>3.73</td>\n",
       "      <td>3.56</td>\n",
       "      <td>3.66</td>\n",
       "    </tr>\n",
       "    <tr>\n",
       "      <th>10</th>\n",
       "      <td>NZD</td>\n",
       "      <td>21.73</td>\n",
       "      <td>22.36</td>\n",
       "      <td>21.97</td>\n",
       "      <td>22.17</td>\n",
       "    </tr>\n",
       "    <tr>\n",
       "      <th>11</th>\n",
       "      <td>THB</td>\n",
       "      <td>0.7897</td>\n",
       "      <td>0.9327</td>\n",
       "      <td>0.8782</td>\n",
       "      <td>0.9182</td>\n",
       "    </tr>\n",
       "    <tr>\n",
       "      <th>12</th>\n",
       "      <td>PHP</td>\n",
       "      <td>0.5514</td>\n",
       "      <td>0.6844</td>\n",
       "      <td>-</td>\n",
       "      <td>-</td>\n",
       "    </tr>\n",
       "    <tr>\n",
       "      <th>13</th>\n",
       "      <td>IDR</td>\n",
       "      <td>0.00193</td>\n",
       "      <td>0.00263</td>\n",
       "      <td>-</td>\n",
       "      <td>-</td>\n",
       "    </tr>\n",
       "    <tr>\n",
       "      <th>14</th>\n",
       "      <td>EUR</td>\n",
       "      <td>33.96</td>\n",
       "      <td>35.11</td>\n",
       "      <td>34.46</td>\n",
       "      <td>34.86</td>\n",
       "    </tr>\n",
       "    <tr>\n",
       "      <th>15</th>\n",
       "      <td>KRW</td>\n",
       "      <td>0.02492</td>\n",
       "      <td>0.02882</td>\n",
       "      <td>-</td>\n",
       "      <td>-</td>\n",
       "    </tr>\n",
       "    <tr>\n",
       "      <th>16</th>\n",
       "      <td>VND</td>\n",
       "      <td>0.00096</td>\n",
       "      <td>0.00146</td>\n",
       "      <td>-</td>\n",
       "      <td>-</td>\n",
       "    </tr>\n",
       "    <tr>\n",
       "      <th>17</th>\n",
       "      <td>MYR</td>\n",
       "      <td>6.017</td>\n",
       "      <td>7.552</td>\n",
       "      <td>-</td>\n",
       "      <td>-</td>\n",
       "    </tr>\n",
       "    <tr>\n",
       "      <th>18</th>\n",
       "      <td>CNY</td>\n",
       "      <td>4.373</td>\n",
       "      <td>4.535</td>\n",
       "      <td>4.445</td>\n",
       "      <td>4.495</td>\n",
       "    </tr>\n",
       "  </tbody>\n",
       "</table>\n",
       "</div>"
      ],
      "text/plain": [
       "     幣別 現金匯率-本行買入 現金匯率-本行賣出 即期匯率-本行買入 即期匯率-本行賣出\n",
       "0   USD    29.955    30.497    30.255    30.355\n",
       "1   HKD     3.731     3.926     3.851     3.911\n",
       "2   GBP     38.02     39.95     38.89     39.31\n",
       "3   AUD     22.99     23.65     23.18     23.41\n",
       "4   CAD     23.42     24.16     23.69     23.91\n",
       "5   SGD     21.51     22.29     21.93     22.11\n",
       "6   CHF     30.77     31.83      31.3     31.59\n",
       "7   JPY    0.2598    0.2708    0.2662    0.2702\n",
       "8   ZAR         -         -      2.24      2.32\n",
       "9   SEK      3.22      3.73      3.56      3.66\n",
       "10  NZD     21.73     22.36     21.97     22.17\n",
       "11  THB    0.7897    0.9327    0.8782    0.9182\n",
       "12  PHP    0.5514    0.6844         -         -\n",
       "13  IDR   0.00193   0.00263         -         -\n",
       "14  EUR     33.96     35.11     34.46     34.86\n",
       "15  KRW   0.02492   0.02882         -         -\n",
       "16  VND   0.00096   0.00146         -         -\n",
       "17  MYR     6.017     7.552         -         -\n",
       "18  CNY     4.373     4.535     4.445     4.495"
      ]
     },
     "execution_count": 11,
     "metadata": {},
     "output_type": "execute_result"
    }
   ],
   "source": [
    "# Table preview\n",
    "FER_bot"
   ]
  },
  {
   "cell_type": "code",
   "execution_count": 12,
   "metadata": {
    "collapsed": false
   },
   "outputs": [
    {
     "data": {
      "text/html": [
       "<div>\n",
       "<table border=\"1\" class=\"dataframe\">\n",
       "  <thead>\n",
       "    <tr style=\"text-align: right;\">\n",
       "      <th></th>\n",
       "      <th>幣別</th>\n",
       "      <th>現金匯率-本行買入</th>\n",
       "      <th>現金匯率-本行賣出</th>\n",
       "      <th>即期匯率-本行買入</th>\n",
       "      <th>即期匯率-本行賣出</th>\n",
       "    </tr>\n",
       "  </thead>\n",
       "  <tbody>\n",
       "    <tr>\n",
       "      <th>32</th>\n",
       "      <td>USD</td>\n",
       "      <td>30.0485</td>\n",
       "      <td>30.5565</td>\n",
       "      <td>30.2606</td>\n",
       "      <td>30.3443</td>\n",
       "    </tr>\n",
       "    <tr>\n",
       "      <th>33</th>\n",
       "      <td>GBP</td>\n",
       "      <td>NaN</td>\n",
       "      <td>NaN</td>\n",
       "      <td>38.908</td>\n",
       "      <td>39.2754</td>\n",
       "    </tr>\n",
       "    <tr>\n",
       "      <th>34</th>\n",
       "      <td>CHF</td>\n",
       "      <td>NaN</td>\n",
       "      <td>NaN</td>\n",
       "      <td>31.3454</td>\n",
       "      <td>31.5488</td>\n",
       "    </tr>\n",
       "    <tr>\n",
       "      <th>35</th>\n",
       "      <td>JPY</td>\n",
       "      <td>0.2644</td>\n",
       "      <td>0.2716</td>\n",
       "      <td>0.2666</td>\n",
       "      <td>0.2694</td>\n",
       "    </tr>\n",
       "    <tr>\n",
       "      <th>36</th>\n",
       "      <td>AUD</td>\n",
       "      <td>NaN</td>\n",
       "      <td>NaN</td>\n",
       "      <td>23.1967</td>\n",
       "      <td>23.3993</td>\n",
       "    </tr>\n",
       "    <tr>\n",
       "      <th>37</th>\n",
       "      <td>EUR</td>\n",
       "      <td>34.3075</td>\n",
       "      <td>35.0094</td>\n",
       "      <td>34.5328</td>\n",
       "      <td>34.7841</td>\n",
       "    </tr>\n",
       "    <tr>\n",
       "      <th>38</th>\n",
       "      <td>CAD</td>\n",
       "      <td>NaN</td>\n",
       "      <td>NaN</td>\n",
       "      <td>23.6989</td>\n",
       "      <td>23.8827</td>\n",
       "    </tr>\n",
       "    <tr>\n",
       "      <th>39</th>\n",
       "      <td>HKD</td>\n",
       "      <td>3.8266</td>\n",
       "      <td>3.9345</td>\n",
       "      <td>3.8545</td>\n",
       "      <td>3.9066</td>\n",
       "    </tr>\n",
       "    <tr>\n",
       "      <th>40</th>\n",
       "      <td>SGD</td>\n",
       "      <td>NaN</td>\n",
       "      <td>NaN</td>\n",
       "      <td>21.9052</td>\n",
       "      <td>22.1117</td>\n",
       "    </tr>\n",
       "    <tr>\n",
       "      <th>41</th>\n",
       "      <td>SEK</td>\n",
       "      <td>NaN</td>\n",
       "      <td>NaN</td>\n",
       "      <td>3.5756</td>\n",
       "      <td>3.6381</td>\n",
       "    </tr>\n",
       "    <tr>\n",
       "      <th>42</th>\n",
       "      <td>NZD</td>\n",
       "      <td>NaN</td>\n",
       "      <td>NaN</td>\n",
       "      <td>21.9491</td>\n",
       "      <td>22.2046</td>\n",
       "    </tr>\n",
       "    <tr>\n",
       "      <th>43</th>\n",
       "      <td>THB</td>\n",
       "      <td>NaN</td>\n",
       "      <td>NaN</td>\n",
       "      <td>0.8806</td>\n",
       "      <td>0.9054</td>\n",
       "    </tr>\n",
       "    <tr>\n",
       "      <th>44</th>\n",
       "      <td>ZAR</td>\n",
       "      <td>NaN</td>\n",
       "      <td>NaN</td>\n",
       "      <td>2.263</td>\n",
       "      <td>2.3108</td>\n",
       "    </tr>\n",
       "    <tr>\n",
       "      <th>45</th>\n",
       "      <td>CNY</td>\n",
       "      <td>4.3815</td>\n",
       "      <td>4.5572</td>\n",
       "      <td>4.4463</td>\n",
       "      <td>4.4924</td>\n",
       "    </tr>\n",
       "  </tbody>\n",
       "</table>\n",
       "</div>"
      ],
      "text/plain": [
       "     幣別 現金匯率-本行買入 現金匯率-本行賣出 即期匯率-本行買入 即期匯率-本行賣出\n",
       "32  USD   30.0485   30.5565   30.2606   30.3443\n",
       "33  GBP       NaN       NaN    38.908   39.2754\n",
       "34  CHF       NaN       NaN   31.3454   31.5488\n",
       "35  JPY    0.2644    0.2716    0.2666    0.2694\n",
       "36  AUD       NaN       NaN   23.1967   23.3993\n",
       "37  EUR   34.3075   35.0094   34.5328   34.7841\n",
       "38  CAD       NaN       NaN   23.6989   23.8827\n",
       "39  HKD    3.8266    3.9345    3.8545    3.9066\n",
       "40  SGD       NaN       NaN   21.9052   22.1117\n",
       "41  SEK       NaN       NaN    3.5756    3.6381\n",
       "42  NZD       NaN       NaN   21.9491   22.2046\n",
       "43  THB       NaN       NaN    0.8806    0.9054\n",
       "44  ZAR       NaN       NaN     2.263    2.3108\n",
       "45  CNY    4.3815    4.5572    4.4463    4.4924"
      ]
     },
     "execution_count": 12,
     "metadata": {},
     "output_type": "execute_result"
    }
   ],
   "source": [
    "FER_CITI"
   ]
  },
  {
   "cell_type": "code",
   "execution_count": 13,
   "metadata": {
    "collapsed": true
   },
   "outputs": [],
   "source": [
    "bot = 'Bank of Taiwan'\n",
    "citi = 'Citibak Taiwan'"
   ]
  },
  {
   "cell_type": "code",
   "execution_count": 14,
   "metadata": {
    "collapsed": false
   },
   "outputs": [],
   "source": [
    "#是否產生Excel\n",
    "def createExcel(x):\n",
    "    if x == True:\n",
    "        FER_bot.to_excel(bot+'_'+'Foreign Exchange Rate'+'_'+times+'.xlsx');\n",
    "        FER_CITI.to_excel(citi+'_'+'Foreign Exchange Rate'+'_'+times+'.xlsx');\n",
    "        print (\"Done\");\n",
    "    else:\n",
    "        FER_bot\n",
    "        FER_CITI        "
   ]
  },
  {
   "cell_type": "code",
   "execution_count": null,
   "metadata": {
    "collapsed": false
   },
   "outputs": [],
   "source": []
  },
  {
   "cell_type": "code",
   "execution_count": null,
   "metadata": {
    "collapsed": true
   },
   "outputs": [],
   "source": []
  }
 ],
 "metadata": {
  "kernelspec": {
   "display_name": "Python 3",
   "language": "python",
   "name": "python3"
  },
  "language_info": {
   "codemirror_mode": {
    "name": "ipython",
    "version": 3
   },
   "file_extension": ".py",
   "mimetype": "text/x-python",
   "name": "python",
   "nbconvert_exporter": "python",
   "pygments_lexer": "ipython3",
   "version": "3.6.0"
  }
 },
 "nbformat": 4,
 "nbformat_minor": 2
}
